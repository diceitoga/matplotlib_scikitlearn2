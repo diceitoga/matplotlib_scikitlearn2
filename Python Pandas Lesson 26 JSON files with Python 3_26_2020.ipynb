{
 "cells": [
  {
   "cell_type": "markdown",
   "metadata": {},
   "source": [
    "# Python Pandas Lesson 26 JSON files with Python 3_26_2020"
   ]
  },
  {
   "cell_type": "code",
   "execution_count": 27,
   "metadata": {},
   "outputs": [],
   "source": [
    "import numpy as np\n",
    "import pandas as pd\n",
    "from pandas import Series, DataFrame\n",
    "from numpy.random import randn\n",
    "import matplotlib.pyplot as plt"
   ]
  },
  {
   "cell_type": "code",
   "execution_count": 28,
   "metadata": {},
   "outputs": [],
   "source": [
    "import json\n",
    "json_obj = '''\n",
    "          { u'clothes': None,  \n",
    "            u'diet': [{u'food': u'grass', u'fur': u'Brown', u'zoo_animal': u'Gazelle'}],  \n",
    "            u'food': [u'Meat', u'Veggies', u'Honey'],  \n",
    "            u'fur': u'Golden',  \n",
    "            u'zoo_animal': u'Lion'\n",
    "           }'''\n",
    "json_obj2 = '''\n",
    "          { u\"clothes\": None,  \n",
    "            u\"diet\": [{u\"food\": u\"grass\", u\"fur\": u\"Brown\", u\"zoo_animal\": u\"Gazelle\"}],  \n",
    "            u\"food\": [u\"Meat\", u\"Veggies\", u\"Honey\"],  \n",
    "            u\"fur\": u\"Golden\",  \n",
    "            u\"zoo_animal\": u\"Lion\"\n",
    "           }'''\n",
    "json_obj3 = '''\n",
    "{\n",
    "  \"host\": \"localhost\",\n",
    "  \"port\": 3030,\n",
    "  \"public\": \"../public/\",\n",
    "  \"paginate\": {\n",
    "    \"default\": 10,\n",
    "    \"max\": 50\n",
    "  },\n",
    "  \"mongodb\": \"mongodb://localhost:27017/api\"\n",
    "}\n",
    "'''"
   ]
  },
  {
   "cell_type": "code",
   "execution_count": 29,
   "metadata": {},
   "outputs": [],
   "source": [
    "data1 = json.loads(json_obj3)   #json orgin file must be in 'string'"
   ]
  },
  {
   "cell_type": "code",
   "execution_count": 30,
   "metadata": {},
   "outputs": [
    {
     "data": {
      "text/plain": [
       "{'host': 'localhost',\n",
       " 'port': 3030,\n",
       " 'public': '../public/',\n",
       " 'paginate': {'default': 10, 'max': 50},\n",
       " 'mongodb': 'mongodb://localhost:27017/api'}"
      ]
     },
     "execution_count": 30,
     "metadata": {},
     "output_type": "execute_result"
    }
   ],
   "source": [
    "data1"
   ]
  },
  {
   "cell_type": "code",
   "execution_count": 31,
   "metadata": {},
   "outputs": [
    {
     "data": {
      "text/plain": [
       "'{\"host\": \"localhost\", \"port\": 3030, \"public\": \"../public/\", \"paginate\": {\"default\": 10, \"max\": 50}, \"mongodb\": \"mongodb://localhost:27017/api\"}'"
      ]
     },
     "execution_count": 31,
     "metadata": {},
     "output_type": "execute_result"
    }
   ],
   "source": [
    "json.dumps(data1)   # converts back to JSON"
   ]
  },
  {
   "cell_type": "code",
   "execution_count": 33,
   "metadata": {},
   "outputs": [
    {
     "data": {
      "text/plain": [
       "dict"
      ]
     },
     "execution_count": 33,
     "metadata": {},
     "output_type": "execute_result"
    }
   ],
   "source": [
    "type(data1)"
   ]
  },
  {
   "cell_type": "code",
   "execution_count": 38,
   "metadata": {},
   "outputs": [
    {
     "name": "stdout",
     "output_type": "stream",
     "text": [
      "              host  port      public  paginate                        mongodb\n",
      "default  localhost  3030  ../public/        10  mongodb://localhost:27017/api\n",
      "max      localhost  3030  ../public/        50  mongodb://localhost:27017/api\n"
     ]
    }
   ],
   "source": [
    "dataframe1 = DataFrame(data1)\n",
    "print(dataframe1)"
   ]
  },
  {
   "cell_type": "code",
   "execution_count": 36,
   "metadata": {},
   "outputs": [
    {
     "data": {
      "text/plain": [
       "default    3030\n",
       "max        3030\n",
       "Name: port, dtype: int64"
      ]
     },
     "execution_count": 36,
     "metadata": {},
     "output_type": "execute_result"
    }
   ],
   "source": [
    "dataframe1['port']"
   ]
  },
  {
   "cell_type": "code",
   "execution_count": null,
   "metadata": {},
   "outputs": [],
   "source": []
  }
 ],
 "metadata": {
  "kernelspec": {
   "display_name": "Python 3",
   "language": "python",
   "name": "python3"
  },
  "language_info": {
   "codemirror_mode": {
    "name": "ipython",
    "version": 3
   },
   "file_extension": ".py",
   "mimetype": "text/x-python",
   "name": "python",
   "nbconvert_exporter": "python",
   "pygments_lexer": "ipython3",
   "version": "3.7.1"
  }
 },
 "nbformat": 4,
 "nbformat_minor": 2
}
