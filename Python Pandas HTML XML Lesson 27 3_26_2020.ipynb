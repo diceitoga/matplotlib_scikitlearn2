{
 "cells": [
  {
   "cell_type": "markdown",
   "metadata": {},
   "source": [
    "# Python Pandas Lesson 27 3_26_2020"
   ]
  },
  {
   "cell_type": "code",
   "execution_count": 1,
   "metadata": {},
   "outputs": [],
   "source": [
    "import numpy as np\n",
    "import pandas as pd\n",
    "from pandas import Series, DataFrame\n",
    "import matplotlib.pyplot as plt"
   ]
  },
  {
   "cell_type": "markdown",
   "metadata": {},
   "source": [
    "# working with HTML and XML"
   ]
  },
  {
   "cell_type": "code",
   "execution_count": 2,
   "metadata": {},
   "outputs": [],
   "source": [
    "from pandas import read_html"
   ]
  },
  {
   "cell_type": "code",
   "execution_count": 3,
   "metadata": {},
   "outputs": [],
   "source": [
    "url = 'http://www.fdic.gov/bank/individual/failed/banklist.html' "
   ]
  },
  {
   "cell_type": "code",
   "execution_count": 4,
   "metadata": {},
   "outputs": [],
   "source": [
    "'''\n",
    "you need:\n",
    "pip install beautifulsoup4\n",
    "pip install html5lib\n",
    "requirements are satisfied\n",
    "'''\n",
    "\n",
    "dframe_list = pd.io.html.read_html(url)   #VIP  VIP VIP VIP"
   ]
  },
  {
   "cell_type": "code",
   "execution_count": 9,
   "metadata": {},
   "outputs": [
    {
     "name": "stdout",
     "output_type": "stream",
     "text": [
      "                                             Bank Name                City  \\\n",
      "0                                   Ericson State Bank             Ericson   \n",
      "1                     City National Bank of New Jersey              Newark   \n",
      "2                                        Resolute Bank              Maumee   \n",
      "3                                Louisa Community Bank              Louisa   \n",
      "4                                 The Enloe State Bank              Cooper   \n",
      "5                  Washington Federal Bank for Savings             Chicago   \n",
      "6      The Farmers and Merchants State Bank of Argonia             Argonia   \n",
      "7                                  Fayette County Bank          Saint Elmo   \n",
      "8    Guaranty Bank, (d/b/a BestBank in Georgia & Mi...           Milwaukee   \n",
      "9                                       First NBC Bank         New Orleans   \n",
      "10                                       Proficio Bank  Cottonwood Heights   \n",
      "11                       Seaway Bank and Trust Company             Chicago   \n",
      "12                              Harvest Community Bank          Pennsville   \n",
      "13                                         Allied Bank            Mulberry   \n",
      "14                        The Woodbury Banking Company            Woodbury   \n",
      "15                              First CornerStone Bank     King of Prussia   \n",
      "16                                  Trust Company Bank             Memphis   \n",
      "17                          North Milwaukee State Bank           Milwaukee   \n",
      "18                              Hometown National Bank            Longview   \n",
      "19                                 The Bank of Georgia      Peachtree City   \n",
      "20                                        Premier Bank              Denver   \n",
      "21                                      Edgebrook Bank             Chicago   \n",
      "22                              Doral Bank  En Español            San Juan   \n",
      "23                   Capitol City Bank & Trust Company             Atlanta   \n",
      "24                             Highland Community Bank             Chicago   \n",
      "25                    First National Bank of Crestview           Crestview   \n",
      "26                                  Northern Star Bank             Mankato   \n",
      "27              Frontier Bank, FSB D/B/A El Paseo Bank         Palm Desert   \n",
      "28               The National Republic Bank of Chicago             Chicago   \n",
      "29                                      NBRS Financial          Rising Sun   \n",
      "..                                                 ...                 ...   \n",
      "530                                  ANB Financial, NA         Bentonville   \n",
      "531                                          Hume Bank                Hume   \n",
      "532                             Douglass National Bank         Kansas City   \n",
      "533                                  Miami Valley Bank            Lakeview   \n",
      "534                                            NetBank          Alpharetta   \n",
      "535                          Metropolitan Savings Bank          Pittsburgh   \n",
      "536                                    Bank of Ephraim             Ephraim   \n",
      "537                                      Reliance Bank        White Plains   \n",
      "538              Guaranty National Bank of Tallahassee         Tallahassee   \n",
      "539                                Dollar Savings Bank              Newark   \n",
      "540                               Pulaski Savings Bank        Philadelphia   \n",
      "541              First National Bank of Blanchardville      Blanchardville   \n",
      "542                              Southern Pacific Bank            Torrance   \n",
      "543                        Farmers Bank of Cheneyville         Cheneyville   \n",
      "544                                      Bank of Alamo               Alamo   \n",
      "545             AmTrade International Bank  En Español             Atlanta   \n",
      "546                     Universal Federal Savings Bank             Chicago   \n",
      "547                       Connecticut Bank of Commerce            Stamford   \n",
      "548                                   New Century Bank     Shelby Township   \n",
      "549                              Net 1st National Bank          Boca Raton   \n",
      "550                                       NextBank, NA             Phoenix   \n",
      "551                           Oakwood Deposit Bank Co.             Oakwood   \n",
      "552                              Bank of Sierra Blanca       Sierra Blanca   \n",
      "553                      Hamilton Bank, NA  En Español               Miami   \n",
      "554                             Sinclair National Bank            Gravette   \n",
      "555                                 Superior Bank, FSB            Hinsdale   \n",
      "556                                Malta National Bank               Malta   \n",
      "557                    First Alliance Bank & Trust Co.          Manchester   \n",
      "558                  National State Bank of Metropolis          Metropolis   \n",
      "559                                   Bank of Honolulu            Honolulu   \n",
      "\n",
      "     ST   CERT                Acquiring Institution        Closing Date  \n",
      "0    NE  18265           Farmers and Merchants Bank   February 14, 2020  \n",
      "1    NJ  21111                      Industrial Bank    November 1, 2019  \n",
      "2    OH  58317                   Buckeye State Bank    October 25, 2019  \n",
      "3    KY  58112    Kentucky Farmers Bank Corporation    October 25, 2019  \n",
      "4    TX  10716                   Legend Bank, N. A.        May 31, 2019  \n",
      "5    IL  30570                   Royal Savings Bank   December 15, 2017  \n",
      "6    KS  17719                          Conway Bank    October 13, 2017  \n",
      "7    IL   1802            United Fidelity Bank, fsb        May 26, 2017  \n",
      "8    WI  30003  First-Citizens Bank & Trust Company         May 5, 2017  \n",
      "9    LA  58302                         Whitney Bank      April 28, 2017  \n",
      "10   UT  35495                    Cache Valley Bank       March 3, 2017  \n",
      "11   IL  19328                  State Bank of Texas    January 27, 2017  \n",
      "12   NJ  34951  First-Citizens Bank & Trust Company    January 13, 2017  \n",
      "13   AR     91                         Today's Bank  September 23, 2016  \n",
      "14   GA  11297                          United Bank     August 19, 2016  \n",
      "15   PA  35312  First-Citizens Bank & Trust Company         May 6, 2016  \n",
      "16   TN   9956           The Bank of Fayette County      April 29, 2016  \n",
      "17   WI  20364  First-Citizens Bank & Trust Company      March 11, 2016  \n",
      "18   WA  35156                       Twin City Bank     October 2, 2015  \n",
      "19   GA  35259                        Fidelity Bank     October 2, 2015  \n",
      "20   CO  34112            United Fidelity Bank, fsb       July 10, 2015  \n",
      "21   IL  57772             Republic Bank of Chicago         May 8, 2015  \n",
      "22   PR  32102         Banco Popular de Puerto Rico   February 27, 2015  \n",
      "23   GA  33938  First-Citizens Bank & Trust Company   February 13, 2015  \n",
      "24   IL  20290            United Fidelity Bank, fsb    January 23, 2015  \n",
      "25   FL  17557                       First NBC Bank    January 16, 2015  \n",
      "26   MN  34983                            BankVista   December 19, 2014  \n",
      "27   CA  34738    Bank of Southern California, N.A.    November 7, 2014  \n",
      "28   IL    916                  State Bank of Texas    October 24, 2014  \n",
      "29   MD   4862                          Howard Bank    October 17, 2014  \n",
      "..   ..    ...                                  ...                 ...  \n",
      "530  AR  33901       Pulaski Bank and Trust Company         May 9, 2008  \n",
      "531  MO   1971                        Security Bank       March 7, 2008  \n",
      "532  MO  24660       Liberty Bank and Trust Company    January 25, 2008  \n",
      "533  OH  16848         The Citizens Banking Company     October 4, 2007  \n",
      "534  GA  32575                           ING DIRECT  September 28, 2007  \n",
      "535  PA  35353  Allegheny Valley Bank of Pittsburgh    February 2, 2007  \n",
      "536  UT   1249                        Far West Bank       June 25, 2004  \n",
      "537  NY  26778                     Union State Bank      March 19, 2004  \n",
      "538  FL  26838              Hancock Bank of Florida      March 12, 2004  \n",
      "539  NJ  31330                          No Acquirer   February 14, 2004  \n",
      "540  PA  27203                       Earthstar Bank   November 14, 2003  \n",
      "541  WI  11639                        The Park Bank         May 9, 2003  \n",
      "542  CA  27094                            Beal Bank    February 7, 2003  \n",
      "543  LA  16445            Sabine State Bank & Trust   December 17, 2002  \n",
      "544  TN   9961                          No Acquirer    November 8, 2002  \n",
      "545  GA  33784                          No Acquirer  September 30, 2002  \n",
      "546  IL  29355               Chicago Community Bank       June 27, 2002  \n",
      "547  CT  19183                   Hudson United Bank       June 26, 2002  \n",
      "548  MI  34979                          No Acquirer      March 28, 2002  \n",
      "549  FL  26652                       Bank Leumi USA       March 1, 2002  \n",
      "550  AZ  22314                          No Acquirer    February 7, 2002  \n",
      "551  OH   8966       The State Bank & Trust Company    February 1, 2002  \n",
      "552  TX  22002     The Security State Bank of Pecos    January 18, 2002  \n",
      "553  FL  24382     Israel Discount Bank of New York    January 11, 2002  \n",
      "554  AR  34248                   Delta Trust & Bank   September 7, 2001  \n",
      "555  IL  32646                Superior Federal, FSB       July 27, 2001  \n",
      "556  OH   6629                    North Valley Bank         May 3, 2001  \n",
      "557  NH  34264  Southern New Hampshire Bank & Trust    February 2, 2001  \n",
      "558  IL   3815              Banterra Bank of Marion   December 14, 2000  \n",
      "559  HI  21029                   Bank of the Orient    October 13, 2000  \n",
      "\n",
      "[560 rows x 6 columns]\n"
     ]
    },
    {
     "data": {
      "text/plain": [
       "pandas.core.frame.DataFrame"
      ]
     },
     "execution_count": 9,
     "metadata": {},
     "output_type": "execute_result"
    }
   ],
   "source": [
    "dframe_list\n",
    "dframe = dframe_list[0]\n",
    "print(dframe)\n",
    "type(dframe)"
   ]
  },
  {
   "cell_type": "code",
   "execution_count": 10,
   "metadata": {},
   "outputs": [
    {
     "data": {
      "text/plain": [
       "array(['Bank Name', 'City', 'ST', 'CERT', 'Acquiring Institution',\n",
       "       'Closing Date'], dtype=object)"
      ]
     },
     "execution_count": 10,
     "metadata": {},
     "output_type": "execute_result"
    }
   ],
   "source": [
    "dframe.columns.values"
   ]
  },
  {
   "cell_type": "code",
   "execution_count": 12,
   "metadata": {},
   "outputs": [],
   "source": [
    "df_colums = Series(dframe.columns.values)"
   ]
  },
  {
   "cell_type": "code",
   "execution_count": 14,
   "metadata": {},
   "outputs": [
    {
     "data": {
      "text/plain": [
       "0                Bank Name\n",
       "1                     City\n",
       "2                       ST\n",
       "3                     CERT\n",
       "4    Acquiring Institution\n",
       "5             Closing Date\n",
       "dtype: object"
      ]
     },
     "execution_count": 14,
     "metadata": {},
     "output_type": "execute_result"
    }
   ],
   "source": [
    "df_colums"
   ]
  },
  {
   "cell_type": "code",
   "execution_count": null,
   "metadata": {},
   "outputs": [],
   "source": []
  }
 ],
 "metadata": {
  "kernelspec": {
   "display_name": "Python 3",
   "language": "python",
   "name": "python3"
  },
  "language_info": {
   "codemirror_mode": {
    "name": "ipython",
    "version": 3
   },
   "file_extension": ".py",
   "mimetype": "text/x-python",
   "name": "python",
   "nbconvert_exporter": "python",
   "pygments_lexer": "ipython3",
   "version": "3.7.1"
  }
 },
 "nbformat": 4,
 "nbformat_minor": 2
}
