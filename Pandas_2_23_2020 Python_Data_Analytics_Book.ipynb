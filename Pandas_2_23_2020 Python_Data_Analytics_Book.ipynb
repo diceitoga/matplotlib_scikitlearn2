{
 "cells": [
  {
   "cell_type": "code",
   "execution_count": 5,
   "metadata": {},
   "outputs": [
    {
     "name": "stdout",
     "output_type": "stream",
     "text": [
      "0    12\n",
      "1    -4\n",
      "2     7\n",
      "3     9\n",
      "dtype: int64\n"
     ]
    }
   ],
   "source": [
    "'''\n",
    "Chapter 4 of the Python Data Analytics book\n",
    "'''\n",
    "import pandas as pd  #inporting pandas\n",
    "import numpy as np\n",
    "\n",
    "s = pd.Series([12,-4,7,9])   #creating arrays...as far series it is like an array except it comes with index built in\n",
    "print(s)"
   ]
  },
  {
   "cell_type": "code",
   "execution_count": 6,
   "metadata": {},
   "outputs": [
    {
     "name": "stdout",
     "output_type": "stream",
     "text": [
      "0    24\n",
      "1    -8\n",
      "2    14\n",
      "3    18\n",
      "dtype: int64\n"
     ]
    }
   ],
   "source": [
    "print(s*2)   #multiplying the entire series is pretty easy here"
   ]
  },
  {
   "cell_type": "code",
   "execution_count": 7,
   "metadata": {},
   "outputs": [
    {
     "name": "stdout",
     "output_type": "stream",
     "text": [
      "a    12\n",
      "b    -4\n",
      "c     7\n",
      "d     9\n",
      "dtype: int64\n"
     ]
    }
   ],
   "source": [
    "s2 = pd.Series([12,-4,7,9], index=['a','b','c','d'])\n",
    "print(s2)"
   ]
  },
  {
   "cell_type": "code",
   "execution_count": 8,
   "metadata": {},
   "outputs": [
    {
     "data": {
      "text/plain": [
       "array([12, -4,  7,  9], dtype=int64)"
      ]
     },
     "execution_count": 8,
     "metadata": {},
     "output_type": "execute_result"
    }
   ],
   "source": [
    "s2.values     #values is an attribute, not a function "
   ]
  },
  {
   "cell_type": "code",
   "execution_count": 9,
   "metadata": {},
   "outputs": [
    {
     "data": {
      "text/plain": [
       "Index(['a', 'b', 'c', 'd'], dtype='object')"
      ]
     },
     "execution_count": 9,
     "metadata": {},
     "output_type": "execute_result"
    }
   ],
   "source": [
    "s2.index  #you can see with index attribute as to how many"
   ]
  },
  {
   "cell_type": "markdown",
   "metadata": {},
   "source": [
    "# SELECTING INTERNAL ELEMENT   => numpy and pandas "
   ]
  },
  {
   "cell_type": "code",
   "execution_count": 11,
   "metadata": {},
   "outputs": [
    {
     "name": "stdout",
     "output_type": "stream",
     "text": [
      "12\n",
      "-4\n",
      "7\n"
     ]
    }
   ],
   "source": [
    "#SELECTING INTERNAL ELEMENT   => numpy and pandas \n",
    "\n",
    "print(s[0])\n",
    "print(s[1])\n",
    "print(s[2])\n"
   ]
  },
  {
   "cell_type": "code",
   "execution_count": 10,
   "metadata": {},
   "outputs": [
    {
     "data": {
      "text/plain": [
       "a    12\n",
       "b    -4\n",
       "dtype: int64"
      ]
     },
     "execution_count": 10,
     "metadata": {},
     "output_type": "execute_result"
    }
   ],
   "source": [
    "s2[0:2]   #remember, index[2]is not included but upto or less than."
   ]
  },
  {
   "cell_type": "code",
   "execution_count": 11,
   "metadata": {},
   "outputs": [
    {
     "name": "stdout",
     "output_type": "stream",
     "text": [
      "a    12\n",
      "b    -4\n",
      "c     7\n",
      "d     9\n",
      "dtype: int64\n",
      "a     12\n",
      "b    100\n",
      "c      7\n",
      "d      9\n",
      "dtype: int64\n"
     ]
    }
   ],
   "source": [
    "#Assigning values to the element using pandas and numpy (p.95)\n",
    "print(s2)\n",
    "s2['b']=100   #assigned the element from -4 => 100\n",
    "print(s2)\n"
   ]
  },
  {
   "cell_type": "code",
   "execution_count": 13,
   "metadata": {},
   "outputs": [
    {
     "name": "stdout",
     "output_type": "stream",
     "text": [
      "[1 2 3 4]\n",
      "0    1\n",
      "1    2\n",
      "2    3\n",
      "3    4\n",
      "dtype: int32\n"
     ]
    }
   ],
   "source": [
    "#Deifining a Series from NumPy Arrays and other series\n",
    "arr = np.array([1,2,3,4])\n",
    "print(arr)\n",
    "s3 = pd.Series(arr)\n",
    "print(s3)"
   ]
  },
  {
   "cell_type": "code",
   "execution_count": 14,
   "metadata": {},
   "outputs": [
    {
     "name": "stdout",
     "output_type": "stream",
     "text": [
      "0    100\n",
      "1      2\n",
      "2      3\n",
      "3      4\n",
      "dtype: int32\n"
     ]
    }
   ],
   "source": [
    "s3[0] = 100\n",
    "print(s3)    #by changing the s3, the pointers that was passed => arr and the value is now changed also from it"
   ]
  },
  {
   "cell_type": "code",
   "execution_count": 15,
   "metadata": {},
   "outputs": [
    {
     "name": "stdout",
     "output_type": "stream",
     "text": [
      "[100   2   3   4]\n"
     ]
    }
   ],
   "source": [
    "print(arr)"
   ]
  },
  {
   "cell_type": "code",
   "execution_count": 16,
   "metadata": {},
   "outputs": [
    {
     "name": "stdout",
     "output_type": "stream",
     "text": [
      "0    100\n",
      "1      2\n",
      "2      3\n",
      "3      4\n",
      "dtype: int32\n"
     ]
    }
   ],
   "source": [
    "#Filtering Values:  page 97\n",
    "print(s3)"
   ]
  },
  {
   "cell_type": "code",
   "execution_count": 17,
   "metadata": {},
   "outputs": [
    {
     "data": {
      "text/plain": [
       "0    100\n",
       "dtype: int32"
      ]
     },
     "execution_count": 17,
     "metadata": {},
     "output_type": "execute_result"
    }
   ],
   "source": [
    "s3[s3>99]   #gets you the only value that is above 99 in this case, but will not change the underlying value of the series"
   ]
  },
  {
   "cell_type": "code",
   "execution_count": 18,
   "metadata": {},
   "outputs": [
    {
     "name": "stdout",
     "output_type": "stream",
     "text": [
      "0    100\n",
      "1      2\n",
      "2      3\n",
      "3      4\n",
      "dtype: int32\n"
     ]
    }
   ],
   "source": [
    "print(s3)  #printing the series as it shows it is no 'in place'"
   ]
  },
  {
   "cell_type": "code",
   "execution_count": 19,
   "metadata": {},
   "outputs": [
    {
     "data": {
      "text/plain": [
       "0    50.0\n",
       "1     1.0\n",
       "2     1.5\n",
       "3     2.0\n",
       "dtype: float64"
      ]
     },
     "execution_count": 19,
     "metadata": {},
     "output_type": "execute_result"
    }
   ],
   "source": [
    "#Operations and Mathematical Functions: \n",
    "#same as usual (+, -, *, /)\n",
    "s3/2\n"
   ]
  },
  {
   "cell_type": "code",
   "execution_count": 20,
   "metadata": {},
   "outputs": [
    {
     "data": {
      "text/plain": [
       "0    100\n",
       "1      2\n",
       "2      3\n",
       "3      4\n",
       "dtype: int32"
      ]
     },
     "execution_count": 20,
     "metadata": {},
     "output_type": "execute_result"
    }
   ],
   "source": [
    "s3   #again this keeps the s3 value intact"
   ]
  },
  {
   "cell_type": "code",
   "execution_count": 21,
   "metadata": {},
   "outputs": [
    {
     "data": {
      "text/plain": [
       "0    4.605170\n",
       "1    0.693147\n",
       "2    1.098612\n",
       "3    1.386294\n",
       "dtype: float64"
      ]
     },
     "execution_count": 21,
     "metadata": {},
     "output_type": "execute_result"
    }
   ],
   "source": [
    "np.log(s3)"
   ]
  },
  {
   "cell_type": "code",
   "execution_count": 22,
   "metadata": {},
   "outputs": [
    {
     "name": "stdout",
     "output_type": "stream",
     "text": [
      "0    100\n",
      "1      2\n",
      "2      3\n",
      "3      4\n",
      "dtype: int32\n"
     ]
    }
   ],
   "source": [
    "print(s3)"
   ]
  },
  {
   "cell_type": "markdown",
   "metadata": {},
   "source": [
    "# Evaluating Values"
   ]
  },
  {
   "cell_type": "code",
   "execution_count": 24,
   "metadata": {},
   "outputs": [],
   "source": [
    "#Evaluating Values Page 98\n",
    "serd = pd.Series([1,0,2,1,2,3], index=['white', 'white', 'blue', 'green', 'green', 'yellow'])"
   ]
  },
  {
   "cell_type": "code",
   "execution_count": 25,
   "metadata": {},
   "outputs": [
    {
     "name": "stdout",
     "output_type": "stream",
     "text": [
      "white     1\n",
      "white     0\n",
      "blue      2\n",
      "green     1\n",
      "green     2\n",
      "yellow    3\n",
      "dtype: int64\n"
     ]
    }
   ],
   "source": [
    "print(serd)"
   ]
  },
  {
   "cell_type": "code",
   "execution_count": 26,
   "metadata": {},
   "outputs": [
    {
     "data": {
      "text/plain": [
       "array([1, 0, 2, 3], dtype=int64)"
      ]
     },
     "execution_count": 26,
     "metadata": {},
     "output_type": "execute_result"
    }
   ],
   "source": [
    "serd.unique()   #this is like set() for the value where only unique values are displayed "
   ]
  },
  {
   "cell_type": "code",
   "execution_count": 29,
   "metadata": {},
   "outputs": [
    {
     "data": {
      "text/plain": [
       "2    2\n",
       "1    2\n",
       "3    1\n",
       "0    1\n",
       "dtype: int64"
      ]
     },
     "execution_count": 29,
     "metadata": {},
     "output_type": "execute_result"
    }
   ],
   "source": [
    "serd.value_counts()    #this gives you the # counts of the values"
   ]
  },
  {
   "cell_type": "code",
   "execution_count": 30,
   "metadata": {},
   "outputs": [
    {
     "name": "stdout",
     "output_type": "stream",
     "text": [
      "white     1\n",
      "white     0\n",
      "blue      2\n",
      "green     1\n",
      "green     2\n",
      "yellow    3\n",
      "dtype: int64\n",
      "white     False\n",
      "white      True\n",
      "blue      False\n",
      "green     False\n",
      "green     False\n",
      "yellow     True\n",
      "dtype: bool\n"
     ]
    }
   ],
   "source": [
    "print(serd)\n",
    "print(serd.isin([0,3]))   # isin() function like => 3 in range(10)"
   ]
  },
  {
   "cell_type": "markdown",
   "metadata": {},
   "source": [
    "# handling NaN values Page 99"
   ]
  },
  {
   "cell_type": "code",
   "execution_count": 34,
   "metadata": {},
   "outputs": [
    {
     "name": "stdout",
     "output_type": "stream",
     "text": [
      "0     5.0\n",
      "1    -3.0\n",
      "2     NaN\n",
      "3    14.0\n",
      "dtype: float64\n",
      "0    False\n",
      "1    False\n",
      "2     True\n",
      "3    False\n",
      "dtype: bool\n",
      "0     True\n",
      "1     True\n",
      "2    False\n",
      "3     True\n",
      "dtype: bool\n"
     ]
    }
   ],
   "source": [
    "sp1 = pd.Series([5, -3, np.NaN,14])  #Creating series\n",
    "print(sp1)\n",
    "print(sp1.isnull())   #checking if there is null\n",
    "print(sp1.notnull())"
   ]
  },
  {
   "cell_type": "code",
   "execution_count": 35,
   "metadata": {},
   "outputs": [
    {
     "data": {
      "text/plain": [
       "2   NaN\n",
       "dtype: float64"
      ]
     },
     "execution_count": 35,
     "metadata": {},
     "output_type": "execute_result"
    }
   ],
   "source": [
    "sp1[sp1.isnull()]   #this is like {k,v where condition(True)}"
   ]
  },
  {
   "cell_type": "code",
   "execution_count": null,
   "metadata": {},
   "outputs": [],
   "source": []
  }
 ],
 "metadata": {
  "kernelspec": {
   "display_name": "Python 3",
   "language": "python",
   "name": "python3"
  },
  "language_info": {
   "codemirror_mode": {
    "name": "ipython",
    "version": 3
   },
   "file_extension": ".py",
   "mimetype": "text/x-python",
   "name": "python",
   "nbconvert_exporter": "python",
   "pygments_lexer": "ipython3",
   "version": "3.7.1"
  }
 },
 "nbformat": 4,
 "nbformat_minor": 2
}
